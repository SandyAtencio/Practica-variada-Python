{
  "nbformat": 4,
  "nbformat_minor": 0,
  "metadata": {
    "colab": {
      "name": "Practica variada de Python.ipynb",
      "provenance": [],
      "authorship_tag": "ABX9TyMD7qqRZRNroN9A2DuTulx5",
      "include_colab_link": true
    },
    "kernelspec": {
      "name": "python3",
      "display_name": "Python 3"
    }
  },
  "cells": [
    {
      "cell_type": "markdown",
      "metadata": {
        "id": "view-in-github",
        "colab_type": "text"
      },
      "source": [
        "<a href=\"https://colab.research.google.com/github/SandyAtencio/Practica-variada-Python/blob/main/Practica_variada_de_Python.ipynb\" target=\"_parent\"><img src=\"https://colab.research.google.com/assets/colab-badge.svg\" alt=\"Open In Colab\"/></a>"
      ]
    },
    {
      "cell_type": "markdown",
      "metadata": {
        "id": "DgM2iHtJWH9O"
      },
      "source": [
        "**1. Tipos de datos**"
      ]
    },
    {
      "cell_type": "code",
      "metadata": {
        "id": "JW5xqP3cWGt3",
        "outputId": "55bd216b-398d-4e19-8e6f-5d606b63c5f7",
        "colab": {
          "base_uri": "https://localhost:8080/"
        }
      },
      "source": [
        " a = 5 # intero --> int\n",
        " b = 'Manzana' # String --> str\n",
        " c = 15.7 # Float\n",
        " d = True # Boolean\n",
        " vacio = None # variable especial que se utiliza para simbolizar algo  vacio\n",
        " print(type(a))\n",
        " print(type(b))\n",
        " print(type(c))\n",
        " print(type(d))\n",
        " print(type(vacio))"
      ],
      "execution_count": null,
      "outputs": [
        {
          "output_type": "stream",
          "text": [
            "<class 'int'>\n",
            "<class 'str'>\n",
            "<class 'float'>\n",
            "<class 'bool'>\n",
            "<class 'NoneType'>\n"
          ],
          "name": "stdout"
        }
      ]
    },
    {
      "cell_type": "markdown",
      "metadata": {
        "id": "0a0JnZDDXJEg"
      },
      "source": [
        "**2. Conversion de tipo de datos a otro tipo**"
      ]
    },
    {
      "cell_type": "code",
      "metadata": {
        "id": "YC7mZaM2XTpv",
        "outputId": "10de8fa4-f7b5-4ef0-f7b9-0d92d7f0c112",
        "colab": {
          "base_uri": "https://localhost:8080/"
        }
      },
      "source": [
        "numeroA = 20\n",
        "print(type(numeroA))\n",
        "\n",
        "#Ahora quiero convertir numeroA a float y que no sea un int\n",
        "numeroA = float(20)\n",
        "print(type(numeroA))\n",
        "\n",
        "#Ahora quiero convertir numeroA a string y que no sea un int\n",
        "numeroA = str(20)\n",
        "print(type(numeroA))"
      ],
      "execution_count": null,
      "outputs": [
        {
          "output_type": "stream",
          "text": [
            "<class 'int'>\n",
            "<class 'float'>\n",
            "<class 'str'>\n"
          ],
          "name": "stdout"
        }
      ]
    },
    {
      "cell_type": "code",
      "metadata": {
        "id": "ZFORGqdHYN-N",
        "outputId": "c58d9ef1-9777-45cc-f707-f7b84d990f0f",
        "colab": {
          "base_uri": "https://localhost:8080/"
        }
      },
      "source": [
        "# cambiar el tipo de variable 'numeroB' a float\n",
        "numeroB = '10'\n",
        "\n",
        "nuevoNumero = float(numeroB)\n",
        "\n",
        "if type(nuevoNumero) is float:\n",
        "  print('Correcto')\n",
        "else:\n",
        "  print('Incorrecto hacer la conversion')"
      ],
      "execution_count": null,
      "outputs": [
        {
          "output_type": "stream",
          "text": [
            "Correcto\n"
          ],
          "name": "stdout"
        }
      ]
    },
    {
      "cell_type": "markdown",
      "metadata": {
        "id": "VZZDsj0-Y6wL"
      },
      "source": [
        "**3. Operaciones con numeros**"
      ]
    },
    {
      "cell_type": "code",
      "metadata": {
        "id": "OBwnAaOhZAmL",
        "outputId": "09bd13b8-22fb-412a-a955-c06e454ea1a5",
        "colab": {
          "base_uri": "https://localhost:8080/"
        }
      },
      "source": [
        "x = 120\n",
        "y = 3.8\n",
        "\n",
        "print(x + y) # suma\n",
        "print(x - y) # resta --> se puede realizar operaciones con distintos tipo de variable\n",
        "print(x * 2) # multiplicacion\n",
        "print(x ** 2) # exponenciacion de una variable\n",
        "print(x % 10) # resto de la division\n",
        "print(x / 2) # division\n",
        "\n"
      ],
      "execution_count": null,
      "outputs": [
        {
          "output_type": "stream",
          "text": [
            "123.8\n",
            "116.2\n",
            "240\n",
            "14400\n",
            "0\n",
            "60.0\n"
          ],
          "name": "stdout"
        }
      ]
    },
    {
      "cell_type": "markdown",
      "metadata": {
        "id": "550QHc1Rbq0Z"
      },
      "source": [
        "**4. Operaciones con textos**\n"
      ]
    },
    {
      "cell_type": "code",
      "metadata": {
        "id": "MNE_LN2abuNO",
        "outputId": "4b9e01c4-fa66-4974-dbc5-ac39d27c1362",
        "colab": {
          "base_uri": "https://localhost:8080/"
        }
      },
      "source": [
        "textoUno = 'las cadenas'\n",
        "textoDos = ' se pueden concatenar'\n",
        "textoMultiplicado = 'cadena Multiplicada ' # las cadenas no se restan\n",
        "print(textoUno +  textoDos)\n",
        "print(textoMultiplicado * 3)"
      ],
      "execution_count": null,
      "outputs": [
        {
          "output_type": "stream",
          "text": [
            "las cadenas se pueden concatenar\n",
            "Texto Multiplicado Texto Multiplicado Texto Multiplicado \n"
          ],
          "name": "stdout"
        }
      ]
    },
    {
      "cell_type": "code",
      "metadata": {
        "id": "NT7lRFOxcrBb",
        "outputId": "13a38aea-433d-423a-da3f-79d0d05c7eb8",
        "colab": {
          "base_uri": "https://localhost:8080/"
        }
      },
      "source": [
        "# a las cadenas no se les puede agregar numeros, la unica forma\n",
        "# para agregarselo seria convirtiendo el numero a string, veamos:\n",
        "a = 'Mi edad es: '\n",
        "b = 24\n",
        "print(a + str(b))"
      ],
      "execution_count": null,
      "outputs": [
        {
          "output_type": "stream",
          "text": [
            "Mi edad es: 24\n"
          ],
          "name": "stdout"
        }
      ]
    },
    {
      "cell_type": "code",
      "metadata": {
        "id": "MBUnSZq0dN3-",
        "outputId": "8066eaa1-ce0f-483f-f6a7-1ddaae0d018e",
        "colab": {
          "base_uri": "https://localhost:8080/"
        }
      },
      "source": [
        "# objetivo: Armar la frase 'El gran gran gran gran gran castillo mide 50 metros.'\n",
        "# con las siguientes variables\n",
        "cad1 = 'gran '\n",
        "cad2 = 'El '\n",
        "cad3 = 'mide '\n",
        "cad4 = ' metros'\n",
        "numero = 50\n",
        "\n",
        "fraseCompleta = cad2 + cad1* 5 + ' castillo' + cad3 + str(numero) + (cad4)\n",
        "print(fraseCompleta)"
      ],
      "execution_count": null,
      "outputs": [
        {
          "output_type": "stream",
          "text": [
            "El gran gran gran gran gran  castillomide 50 metros\n"
          ],
          "name": "stdout"
        }
      ]
    },
    {
      "cell_type": "markdown",
      "metadata": {
        "id": "GR2EMpQbewuC"
      },
      "source": [
        "**5. Operaciones logicas**"
      ]
    },
    {
      "cell_type": "code",
      "metadata": {
        "id": "ABlW5FlfewAC",
        "outputId": "c6c8ff42-83e3-4088-935f-44134d3d3ecd",
        "colab": {
          "base_uri": "https://localhost:8080/"
        }
      },
      "source": [
        "varUno = True\n",
        "varDos = False\n",
        "print(varUno or varDos)\n",
        "print(varUno and varDos)\n",
        "print(not(varUno))"
      ],
      "execution_count": null,
      "outputs": [
        {
          "output_type": "stream",
          "text": [
            "True\n",
            "False\n",
            "False\n"
          ],
          "name": "stdout"
        }
      ]
    },
    {
      "cell_type": "markdown",
      "metadata": {
        "id": "osoMcrIZXt3F"
      },
      "source": [
        "**6.Listas**\n"
      ]
    },
    {
      "cell_type": "code",
      "metadata": {
        "id": "LLujimUtXy7d",
        "outputId": "6bfe1832-6fe2-47b0-95d5-19bd827e0f97",
        "colab": {
          "base_uri": "https://localhost:8080/"
        }
      },
      "source": [
        "listaUno = ['a', 15, False, 8.0] # las listas pueden contener diferentes tipos de datos en su interior\n",
        "print(listaUno)\n",
        "print(len(listaUno)) # Aqui podemos ver el tamaño de la lista\n",
        "\n",
        "print(listaUno[0]) # aqui accedemos al primer elemento de la lista (los indices de las listas\n",
        "#empiezan por 0)"
      ],
      "execution_count": 4,
      "outputs": [
        {
          "output_type": "stream",
          "text": [
            "['a', 15, False, 8.0]\n",
            "4\n",
            "a\n"
          ],
          "name": "stdout"
        }
      ]
    },
    {
      "cell_type": "code",
      "metadata": {
        "id": "JSws-bN1T1M9",
        "outputId": "c93b896a-8c0c-493c-823f-d0487de3b5fb",
        "colab": {
          "base_uri": "https://localhost:8080/"
        }
      },
      "source": [
        "listaVocales = ['a', 'e', 'i', 'o', 'u']\n",
        "print(listaVocales[1:3]) # aqui seleccionamos una porcion de la lista"
      ],
      "execution_count": 12,
      "outputs": [
        {
          "output_type": "stream",
          "text": [
            "['e', 'i']\n",
            "[1, ['a', 'e', 'i', 'o', 'u'], 'Manzana']\n",
            "['primer item']\n",
            "['a', 'b', 'c']\n"
          ],
          "name": "stdout"
        }
      ]
    },
    {
      "cell_type": "code",
      "metadata": {
        "id": "9nd3eIwm4VmA",
        "outputId": "61551e38-bac3-4bfa-b17c-cc0e3df08216",
        "colab": {
          "base_uri": "https://localhost:8080/"
        }
      },
      "source": [
        "listaNum = [1, listaVocales, 'Manzana'] # las listas pueden contener en su interior\n",
        "# otras listas y estas cuentan como un indice de las mismas\n",
        "print(listaNum)"
      ],
      "execution_count": 13,
      "outputs": [
        {
          "output_type": "stream",
          "text": [
            "[1, ['a', 'e', 'i', 'o', 'u'], 'Manzana']\n"
          ],
          "name": "stdout"
        }
      ]
    },
    {
      "cell_type": "code",
      "metadata": {
        "id": "OdRFGHvx4jdz",
        "outputId": "8351e9fb-f954-453b-a9f2-a38bd9726acf",
        "colab": {
          "base_uri": "https://localhost:8080/"
        }
      },
      "source": [
        "listaVacia = []\n",
        "listaVacia.append('primer item') # podemos crear listas vacias y luego con .append\n",
        "# podemos agregar elementos en su interior\n",
        "print(listaVacia)"
      ],
      "execution_count": 14,
      "outputs": [
        {
          "output_type": "stream",
          "text": [
            "['primer item']\n"
          ],
          "name": "stdout"
        }
      ]
    },
    {
      "cell_type": "code",
      "metadata": {
        "id": "1HL3HcE04o_C",
        "outputId": "5bdf0cc2-79d2-4536-8d5e-062855ae38ef",
        "colab": {
          "base_uri": "https://localhost:8080/"
        }
      },
      "source": [
        "#objetivo: Defina una lista vacia llamada 'lista_nueva'\n",
        "# y agréguele (append()) los elementos a, b y c\n",
        "\n",
        "a = 15\n",
        "b = 'Fresa'\n",
        "c = [20, 15, 99, 96]\n",
        "lista_nueva = []\n",
        "lista_nueva.append(a)\n",
        "lista_nueva.append(b)\n",
        "lista_nueva.append(c)\n",
        "print(lista_nueva)"
      ],
      "execution_count": 16,
      "outputs": [
        {
          "output_type": "stream",
          "text": [
            "[15, 'Fresa', [20, 15, 99, 96]]\n"
          ],
          "name": "stdout"
        }
      ]
    },
    {
      "cell_type": "markdown",
      "metadata": {
        "id": "9cX3lPWf6CKv"
      },
      "source": [
        "**7.Loops**"
      ]
    },
    {
      "cell_type": "code",
      "metadata": {
        "id": "cxyxX1z46HK_",
        "outputId": "4ddc4c1b-7f2c-4b42-e614-dfae90dbf507",
        "colab": {
          "base_uri": "https://localhost:8080/"
        }
      },
      "source": [
        "listaDeporte = ['Futbol', 'Tenis', 'Ajedrez', 'Basketball', 'Ciclismo']\n",
        "\n",
        "for item in listaDeporte:\n",
        "  print(item)"
      ],
      "execution_count": 17,
      "outputs": [
        {
          "output_type": "stream",
          "text": [
            "Futbol\n",
            "Tenis\n",
            "Ajedrez\n",
            "Basketball\n",
            "Ciclismo\n"
          ],
          "name": "stdout"
        }
      ]
    },
    {
      "cell_type": "code",
      "metadata": {
        "id": "bnSagETV6j_Y",
        "outputId": "74867234-b933-4d85-e386-034b2f8f70ec",
        "colab": {
          "base_uri": "https://localhost:8080/"
        }
      },
      "source": [
        "# aqui tomaremos la lista de la celda anterior, pero agregaremos \n",
        "# una variable i que cuenta la cantidad de veces que se corre el codigo\n",
        "\n",
        "listaDeporte = ['Futbol', 'Tenis', 'Ajedrez', 'Basketball', 'Ciclismo']\n",
        "\n",
        "# la inicializams en 0\n",
        "i = 0\n",
        "for item in listaDeporte:\n",
        "  # cada vez que entra aqui le sumamos un 1\n",
        "  i = i + 1 # tambien se puede hacer asi:  i += 1\n",
        "  print(item)"
      ],
      "execution_count": 18,
      "outputs": [
        {
          "output_type": "stream",
          "text": [
            "Futbol\n",
            "Tenis\n",
            "Ajedrez\n",
            "Basketball\n",
            "Ciclismo\n"
          ],
          "name": "stdout"
        }
      ]
    },
    {
      "cell_type": "code",
      "metadata": {
        "id": "-XmPzzn6Nur-",
        "outputId": "6dae219a-43f0-4d45-e42a-82c199cc079e",
        "colab": {
          "base_uri": "https://localhost:8080/"
        }
      },
      "source": [
        "frutas = ['Manzana', 'Pera', 'Mango']\n",
        "for fruta in frutas:\n",
        "  print(fruta)"
      ],
      "execution_count": null,
      "outputs": [
        {
          "output_type": "stream",
          "text": [
            "Manzana\n",
            "Pera\n",
            "Mango\n"
          ],
          "name": "stdout"
        }
      ]
    },
    {
      "cell_type": "code",
      "metadata": {
        "id": "lqs6I54B7h7e",
        "outputId": "608d267f-8979-4e47-bf32-ad9735919c07",
        "colab": {
          "base_uri": "https://localhost:8080/"
        }
      },
      "source": [
        "nombres = ['Daniela', 'Vanessa', 'Pedro']\n",
        "listaNueva = []\n",
        "\n",
        "for nom in nombres:\n",
        "  frase = 'Mi nombre es: ' + nom\n",
        "  listaNueva.append(frase)\n",
        "\n",
        "print(listaNueva)"
      ],
      "execution_count": 19,
      "outputs": [
        {
          "output_type": "stream",
          "text": [
            "['Mi nombre es: Daniela', 'Mi nombre es: Vanessa', 'Mi nombre es: Pedro']\n"
          ],
          "name": "stdout"
        }
      ]
    },
    {
      "cell_type": "code",
      "metadata": {
        "id": "BlUDmv2TdaP1",
        "outputId": "53eef3ad-4b70-450e-d35e-2fa9db316ba6",
        "colab": {
          "base_uri": "https://localhost:8080/"
        }
      },
      "source": [
        "contador = 0\n",
        "while contador < 10:\n",
        "  print(contador)\n",
        "  contador += 1"
      ],
      "execution_count": null,
      "outputs": [
        {
          "output_type": "stream",
          "text": [
            "0\n",
            "1\n",
            "2\n",
            "3\n",
            "4\n",
            "5\n",
            "6\n",
            "7\n",
            "8\n",
            "9\n"
          ],
          "name": "stdout"
        }
      ]
    },
    {
      "cell_type": "code",
      "metadata": {
        "id": "6neuT0iEeCbG",
        "outputId": "844264cb-32b6-40cb-d64c-b72faf4482aa",
        "colab": {
          "base_uri": "https://localhost:8080/"
        }
      },
      "source": [
        "contador_externo = 0\n",
        "contador_interno = 0\n",
        "\n",
        "while contador_externo < 5:\n",
        "  while contador_interno < 6:\n",
        "    print(contador_externo, contador_interno)\n",
        "    contador_interno += 1\n",
        "\n",
        "    if contador_interno >= 3:\n",
        "      break\n",
        "    contador_externo += 1\n",
        "  contador_interno = 0\n",
        "\n",
        "    "
      ],
      "execution_count": null,
      "outputs": [
        {
          "output_type": "stream",
          "text": [
            "0 0\n",
            "1 1\n",
            "2 2\n",
            "2 0\n",
            "3 1\n",
            "4 2\n",
            "4 0\n",
            "5 1\n",
            "6 2\n"
          ],
          "name": "stdout"
        }
      ]
    },
    {
      "cell_type": "markdown",
      "metadata": {
        "id": "suW7TBN59D6C"
      },
      "source": [
        "**8. Condicionales**"
      ]
    },
    {
      "cell_type": "code",
      "metadata": {
        "id": "zKG1_CNKZjOO",
        "outputId": "81b7cc14-1ec0-4df6-c918-10c42e80cd4f",
        "colab": {
          "base_uri": "https://localhost:8080/"
        }
      },
      "source": [
        "num_1 = int(input('Escoge un entero: '))\n",
        "num_2 = int(input('Escoge otro entero: '))\n",
        "\n",
        "if num_1 > num_2:\n",
        "  print('El primer numero es mayor que el segundo')\n",
        "elif num_1 < num_2:\n",
        "  print('El segundo numero es mayor que el primero')\n",
        "else:\n",
        "  print('Los dos numeros son iguales')"
      ],
      "execution_count": null,
      "outputs": [
        {
          "output_type": "stream",
          "text": [
            "Escoge un entero: 5\n",
            "Escoge otro entero: 3\n",
            "El primer numero es mayor que el segundo\n"
          ],
          "name": "stdout"
        }
      ]
    },
    {
      "cell_type": "code",
      "metadata": {
        "id": "jymAskwQbd_O",
        "outputId": "ed2a6e20-9376-4041-f8eb-1d729612559b",
        "colab": {
          "base_uri": "https://localhost:8080/"
        }
      },
      "source": [
        "user_1 = int(input('user 1, ingrese su edad: '))\n",
        "user_2 = int(input('user 2, ingrese su edad: '))\n",
        "\n",
        "if user_1 > user_2:\n",
        "  print('user 1 es mayor que user 2')\n",
        "elif user_1 < user_2:\n",
        "    print('user 2 es mayor que user 1')\n",
        "else:\n",
        "  print('los dos users tienen la misma edad')"
      ],
      "execution_count": null,
      "outputs": [
        {
          "output_type": "stream",
          "text": [
            "user 1, ingrese su edad: 20\n",
            "user 2, ingrese su edad: 40\n",
            "user 2 es mayor que user 1\n"
          ],
          "name": "stdout"
        }
      ]
    },
    {
      "cell_type": "markdown",
      "metadata": {
        "id": "4rY76yyVOhaW"
      },
      "source": [
        "**9.Iterables**\n",
        "\n",
        "Un iterator es un objeto que regresa sucesivamente los valores asociados con el iterable."
      ]
    },
    {
      "cell_type": "code",
      "metadata": {
        "id": "Z75hhDlRN9SC",
        "outputId": "11c3fe93-ca16-487e-98d7-2d22854b4ecc",
        "colab": {
          "base_uri": "https://localhost:8080/"
        }
      },
      "source": [
        "iter('Cadena') #cadena\n",
        "iter(['a','b','c']) #lista\n",
        "iter(('a','b','c')) #tupla\n",
        "iter({'a','b','c'}) #conjunto\n",
        "iter({'a':1, 'b':2, 'c':3}) # diccionario"
      ],
      "execution_count": null,
      "outputs": [
        {
          "output_type": "execute_result",
          "data": {
            "text/plain": [
              "<dict_keyiterator at 0x7f941281ce08>"
            ]
          },
          "metadata": {
            "tags": []
          },
          "execution_count": 2
        }
      ]
    },
    {
      "cell_type": "code",
      "metadata": {
        "id": "cd4lsuamPlf-",
        "outputId": "dc5fdb5a-00f1-478c-9e66-cafe350576c8",
        "colab": {
          "base_uri": "https://localhost:8080/",
          "height": 35
        }
      },
      "source": [
        "frutas = ['Manzana', 'Pera', 'Mango']\n",
        "iterador = iter(frutas)\n",
        "next(iterador)"
      ],
      "execution_count": null,
      "outputs": [
        {
          "output_type": "execute_result",
          "data": {
            "application/vnd.google.colaboratory.intrinsic+json": {
              "type": "string"
            },
            "text/plain": [
              "'Manzana'"
            ]
          },
          "metadata": {
            "tags": []
          },
          "execution_count": 5
        }
      ]
    },
    {
      "cell_type": "code",
      "metadata": {
        "id": "8xSIC-BjP_sG",
        "outputId": "3972c17b-b3ca-4b5b-d4d7-02325458ae71",
        "colab": {
          "base_uri": "https://localhost:8080/",
          "height": 35
        }
      },
      "source": [
        "next(iterador)"
      ],
      "execution_count": null,
      "outputs": [
        {
          "output_type": "execute_result",
          "data": {
            "application/vnd.google.colaboratory.intrinsic+json": {
              "type": "string"
            },
            "text/plain": [
              "'Pera'"
            ]
          },
          "metadata": {
            "tags": []
          },
          "execution_count": 6
        }
      ]
    },
    {
      "cell_type": "code",
      "metadata": {
        "id": "RjHdpAuCQHkw",
        "outputId": "8fef2a18-5220-4058-eca3-324754856dd2",
        "colab": {
          "base_uri": "https://localhost:8080/",
          "height": 35
        }
      },
      "source": [
        "next(iterador)"
      ],
      "execution_count": null,
      "outputs": [
        {
          "output_type": "execute_result",
          "data": {
            "application/vnd.google.colaboratory.intrinsic+json": {
              "type": "string"
            },
            "text/plain": [
              "'Mango'"
            ]
          },
          "metadata": {
            "tags": []
          },
          "execution_count": 7
        }
      ]
    },
    {
      "cell_type": "markdown",
      "metadata": {
        "id": "l8rbhfSR-lsR"
      },
      "source": [
        "**10. Diccionarios**"
      ]
    },
    {
      "cell_type": "code",
      "metadata": {
        "id": "ZrhZhRGGQrdz",
        "outputId": "9d91ce15-2b69-49e3-bd9d-719ca21e46b0",
        "colab": {
          "base_uri": "https://localhost:8080/"
        }
      },
      "source": [
        "estudiantes = {\n",
        "    'Mexico': 10,\n",
        "    'Colombia': 15,\n",
        "    'Puerto rico': 4,\n",
        "}\n",
        "\n",
        "for pais in estudiantes:\n",
        "  print(pais)"
      ],
      "execution_count": null,
      "outputs": [
        {
          "output_type": "stream",
          "text": [
            "Mexico\n",
            "Colombia\n",
            "Puerto rico\n"
          ],
          "name": "stdout"
        }
      ]
    },
    {
      "cell_type": "code",
      "metadata": {
        "id": "wynphgPCRStP",
        "outputId": "d3cbf334-b9b4-4d05-e44e-3d8996ad2848",
        "colab": {
          "base_uri": "https://localhost:8080/"
        }
      },
      "source": [
        "for numero_de_estudiantes in estudiantes.values():\n",
        "  print(numero_de_estudiantes)"
      ],
      "execution_count": null,
      "outputs": [
        {
          "output_type": "stream",
          "text": [
            "10\n",
            "15\n",
            "4\n"
          ],
          "name": "stdout"
        }
      ]
    },
    {
      "cell_type": "code",
      "metadata": {
        "id": "jF3KFT_nXB1N",
        "outputId": "e0d98fb6-9c43-43eb-cb98-b14544dbd8a0",
        "colab": {
          "base_uri": "https://localhost:8080/"
        }
      },
      "source": [
        "for pais, numero_de_estudiantes in estudiantes.items():\n",
        "  print(pais,numero_de_estudiantes)"
      ],
      "execution_count": null,
      "outputs": [
        {
          "output_type": "stream",
          "text": [
            "Mexico 10\n",
            "Colombia 15\n",
            "Puerto rico 4\n"
          ],
          "name": "stdout"
        }
      ]
    },
    {
      "cell_type": "markdown",
      "metadata": {
        "id": "qe_jqlWka3uJ"
      },
      "source": [
        "**11.Funciones**\n"
      ]
    },
    {
      "cell_type": "code",
      "metadata": {
        "id": "RVPeEO2na6AE",
        "outputId": "2b896077-716c-48d8-a20f-4d14b315504a",
        "colab": {
          "base_uri": "https://localhost:8080/",
          "height": 35
        }
      },
      "source": [
        "def nombre_completo(nombre, apellido, inverso = False):\n",
        "  \"\"\" Recibe el nombre completo de una persona\n",
        "      param object nombre cualquier cadena\n",
        "      param object apellido cualquier cadena\n",
        "      param Boolean inversor True o False\n",
        "      return nombre completo al derecho y al inverso\n",
        "  \"\"\"\n",
        "  if inverso:\n",
        "    return f'{apellido} {nombre}'\n",
        "  else:\n",
        "    return f'{nombre} {apellido}'\n",
        "\n",
        "nombre_completo('Maria','Lopez', inverso = True)"
      ],
      "execution_count": 20,
      "outputs": [
        {
          "output_type": "execute_result",
          "data": {
            "application/vnd.google.colaboratory.intrinsic+json": {
              "type": "string"
            },
            "text/plain": [
              "'Lopez Maria'"
            ]
          },
          "metadata": {
            "tags": []
          },
          "execution_count": 20
        }
      ]
    }
  ]
}